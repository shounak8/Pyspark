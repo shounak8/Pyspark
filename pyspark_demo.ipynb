{
 "cells": [
  {
   "cell_type": "markdown",
   "id": "b3612ce2",
   "metadata": {},
   "source": [
    "### For demonstration, I will consider datasets from sklearn for showcasing regression and classification"
   ]
  },
  {
   "cell_type": "markdown",
   "id": "a1b282e3",
   "metadata": {},
   "source": [
    "# Introduction"
   ]
  },
  {
   "cell_type": "code",
   "execution_count": 23,
   "id": "404e6854",
   "metadata": {},
   "outputs": [],
   "source": [
    "import warnings\n",
    "warnings.filterwarnings(\"ignore\")\n",
    "import findspark\n",
    "findspark.init(\"/home/shounak/spark-3.1.2-bin-hadoop3.2\")\n",
    "import pyspark\n",
    "from pyspark.sql import SparkSession\n",
    "spark = SparkSession.builder.appName('demo').getOrCreate()\n",
    "import pandas as pd\n",
    "from sklearn.datasets import load_boston, load_iris\n",
    "import time\n",
    "import os\n",
    "from pyspark.sql.functions import udf, countDistinct\n",
    "from pyspark.ml.feature import VectorAssembler, StringIndexer, StandardScaler\n",
    "from pyspark.ml import evaluation\n",
    "from pyspark.ml.regression import LinearRegression\n",
    "from pyspark.ml.classification import GBTClassifier, NaiveBayes, RandomForestClassifier, DecisionTreeClassifier, MultilayerPerceptronClassifier"
   ]
  },
  {
   "cell_type": "code",
   "execution_count": 2,
   "id": "f62e42e5",
   "metadata": {},
   "outputs": [],
   "source": [
    "# Create scaler function\n",
    "scaler = StandardScaler(inputCol=\"raw_features\", outputCol=\"features\")"
   ]
  },
  {
   "cell_type": "code",
   "execution_count": 3,
   "id": "5fa5c1a8",
   "metadata": {},
   "outputs": [],
   "source": [
    "# Function to remove null and duplicate values\n",
    "def rem_null_duplicates(dataframe):\n",
    "    dataframe = dataframe.dropna()\n",
    "    dataframe = dataframe.dropDuplicates()"
   ]
  },
  {
   "cell_type": "code",
   "execution_count": 4,
   "id": "117f7ecc",
   "metadata": {},
   "outputs": [],
   "source": [
    "def skdataset_to_sparkdataset(sklearn_dataset):\n",
    "    load_sklearn_dataset = sklearn_dataset()\n",
    "    pd_df = pd.DataFrame(data=load_sklearn_dataset[\"data\"], columns=load_sklearn_dataset[\"feature_names\"])\n",
    "    pd_df[\"target\"] = load_sklearn_dataset[\"target\"]\n",
    "    pd_df.to_csv(\"temp_df.csv\", index=False)\n",
    "    spark_df = spark.read.csv(\"temp_df.csv\",inferSchema=True, header=True)\n",
    "    return spark_df"
   ]
  },
  {
   "cell_type": "markdown",
   "id": "28ee9adc",
   "metadata": {},
   "source": [
    "# 1. Regression"
   ]
  },
  {
   "cell_type": "code",
   "execution_count": 8,
   "id": "46a98842",
   "metadata": {},
   "outputs": [
    {
     "name": "stdout",
     "output_type": "stream",
     "text": [
      "+-------+----+-----+----+-----+-----+----+------+---+-----+-------+-----+-----+------+\n",
      "|   CRIM|  ZN|INDUS|CHAS|  NOX|   RM| AGE|   DIS|RAD|  TAX|PTRATIO|    B|LSTAT|target|\n",
      "+-------+----+-----+----+-----+-----+----+------+---+-----+-------+-----+-----+------+\n",
      "|0.00632|18.0| 2.31| 0.0|0.538|6.575|65.2|  4.09|1.0|296.0|   15.3|396.9| 4.98|  24.0|\n",
      "|0.02731| 0.0| 7.07| 0.0|0.469|6.421|78.9|4.9671|2.0|242.0|   17.8|396.9| 9.14|  21.6|\n",
      "+-------+----+-----+----+-----+-----+----+------+---+-----+-------+-----+-----+------+\n",
      "only showing top 2 rows\n",
      "\n"
     ]
    }
   ],
   "source": [
    "regression_df = skdataset_to_sparkdataset(load_boston)\n",
    "rem_null_duplicates(regression_df)\n",
    "regression_df.show(2)"
   ]
  },
  {
   "cell_type": "code",
   "execution_count": 95,
   "id": "e953b6cb",
   "metadata": {},
   "outputs": [],
   "source": [
    "assembler_lin_reg = VectorAssembler(\n",
    "    inputCols=[\n",
    "        \"CRIM\",\n",
    "        \"ZN\",\n",
    "        \"INDUS\",\n",
    "        \"CHAS\",\n",
    "        \"NOX\",\n",
    "        \"RM\",\n",
    "        \"AGE\",\n",
    "        \"DIS\",\n",
    "        \"RAD\",\n",
    "        \"TAX\",\n",
    "        \"PTRATIO\",\n",
    "        \"B\",\n",
    "        \"LSTAT\",\n",
    "    ],\n",
    "    outputCol=\"raw_features\",\n",
    ")\n",
    "\n",
    "\n",
    "regression_df = assembler_lin_reg.transform(regression_df)\n",
    "regression_df = scaler.fit(regression_df).transform(regression_df)\n",
    "regression_df = regression_df.select(\"features\",\"target\")"
   ]
  },
  {
   "cell_type": "code",
   "execution_count": 99,
   "id": "07eba679",
   "metadata": {},
   "outputs": [],
   "source": [
    "train_regression_df, test_regression_df = regression_df.randomSplit([0.8, 0.2])"
   ]
  },
  {
   "cell_type": "code",
   "execution_count": 101,
   "id": "13efdd6e",
   "metadata": {},
   "outputs": [],
   "source": [
    "linear_regression = LinearRegression(featuresCol='features',labelCol='target',)"
   ]
  },
  {
   "cell_type": "code",
   "execution_count": 102,
   "id": "3bce99ae",
   "metadata": {},
   "outputs": [
    {
     "name": "stderr",
     "output_type": "stream",
     "text": [
      "21/10/03 12:23:45 WARN Instrumentation: [82fb548f] regParam is zero, which might cause numerical instability and overfitting.\n",
      "21/10/03 12:23:45 WARN BLAS: Failed to load implementation from: com.github.fommil.netlib.NativeSystemBLAS\n",
      "21/10/03 12:23:45 WARN BLAS: Failed to load implementation from: com.github.fommil.netlib.NativeRefBLAS\n",
      "21/10/03 12:23:51 WARN LAPACK: Failed to load implementation from: com.github.fommil.netlib.NativeSystemLAPACK\n",
      "21/10/03 12:23:51 WARN LAPACK: Failed to load implementation from: com.github.fommil.netlib.NativeRefLAPACK\n",
      "                                                                                \r"
     ]
    }
   ],
   "source": [
    "lin_reg_model = linear_regression.fit(train_regression_df)"
   ]
  },
  {
   "cell_type": "code",
   "execution_count": 103,
   "id": "d7b3623c",
   "metadata": {},
   "outputs": [],
   "source": [
    "test_result = lin_reg_model.transform(test_regression_df)"
   ]
  },
  {
   "cell_type": "code",
   "execution_count": 104,
   "id": "74fe2995",
   "metadata": {},
   "outputs": [
    {
     "name": "stdout",
     "output_type": "stream",
     "text": [
      "+--------------------+------+------------------+\n",
      "|            features|target|        prediction|\n",
      "+--------------------+------+------------------+\n",
      "|[0.66629424479178...|  25.0| 28.81382707255313|\n",
      "|[0.23370103573063...|  50.0| 36.25492397303093|\n",
      "|[0.81643354932201...|  14.2|18.270560068934614|\n",
      "+--------------------+------+------------------+\n",
      "only showing top 3 rows\n",
      "\n"
     ]
    }
   ],
   "source": [
    "test_result.show(3)"
   ]
  },
  {
   "cell_type": "code",
   "execution_count": 106,
   "id": "ee0b4c5e",
   "metadata": {},
   "outputs": [],
   "source": [
    "evaluator_lin_reg = evaluation.RegressionEvaluator(predictionCol=\"prediction\", labelCol=\"target\")"
   ]
  },
  {
   "cell_type": "code",
   "execution_count": 107,
   "id": "f8e82c95",
   "metadata": {},
   "outputs": [
    {
     "name": "stderr",
     "output_type": "stream",
     "text": [
      "[Stage 86:================================================>     (181 + 1) / 200]\r"
     ]
    },
    {
     "name": "stdout",
     "output_type": "stream",
     "text": [
      "5.431707775801992\n"
     ]
    },
    {
     "name": "stderr",
     "output_type": "stream",
     "text": [
      "\r",
      "[Stage 86:=====================================================>(197 + 1) / 200]\r",
      "\r",
      "                                                                                \r"
     ]
    }
   ],
   "source": [
    "evaluation_lin_reg = evaluator_lin_reg.evaluate(test_result)"
   ]
  },
  {
   "cell_type": "code",
   "execution_count": 108,
   "id": "fbc2abbf",
   "metadata": {},
   "outputs": [
    {
     "name": "stdout",
     "output_type": "stream",
     "text": [
      "RSME for the model on test cases is  5.431707775801992\n"
     ]
    }
   ],
   "source": [
    "print(\"RSME for the Linear Regression model on test cases is \",evaluation_lin_reg)"
   ]
  },
  {
   "cell_type": "markdown",
   "id": "68986126",
   "metadata": {},
   "source": [
    "# 2. Classification"
   ]
  },
  {
   "cell_type": "code",
   "execution_count": 9,
   "id": "2aefc7d0",
   "metadata": {},
   "outputs": [
    {
     "name": "stdout",
     "output_type": "stream",
     "text": [
      "+-----------------+----------------+-----------------+----------------+------+\n",
      "|sepal length (cm)|sepal width (cm)|petal length (cm)|petal width (cm)|target|\n",
      "+-----------------+----------------+-----------------+----------------+------+\n",
      "|              5.1|             3.5|              1.4|             0.2|     0|\n",
      "|              4.9|             3.0|              1.4|             0.2|     0|\n",
      "+-----------------+----------------+-----------------+----------------+------+\n",
      "only showing top 2 rows\n",
      "\n"
     ]
    }
   ],
   "source": [
    "classification_df = skdataset_to_sparkdataset(load_iris)\n",
    "rem_null_duplicates(classification_df)\n",
    "classification_df.show(2)"
   ]
  },
  {
   "cell_type": "code",
   "execution_count": 114,
   "id": "7cde2b9a",
   "metadata": {},
   "outputs": [],
   "source": [
    "assembler_classification = VectorAssembler(inputCols=['sepal length (cm)',\n",
    " 'sepal width (cm)',\n",
    " 'petal length (cm)',\n",
    " 'petal width (cm)',], outputCol=\"raw_features\")\n",
    "\n",
    "classification_df = assembler_classification.transform(classification_df)\n",
    "classification_df = scaler.fit(classification_df).transform(classification_df)\n",
    "classification_df = classification_df.select(\"features\",\"target\")"
   ]
  },
  {
   "cell_type": "code",
   "execution_count": 115,
   "id": "c3f298d3",
   "metadata": {},
   "outputs": [],
   "source": [
    "train_classification_df, test_classification_df = classification_df.randomSplit([0.8, 0.2])"
   ]
  },
  {
   "cell_type": "code",
   "execution_count": null,
   "id": "172959f7",
   "metadata": {},
   "outputs": [],
   "source": [
    "# GBTClassifier is limited to binary classification"
   ]
  },
  {
   "cell_type": "code",
   "execution_count": 116,
   "id": "6bee702a",
   "metadata": {},
   "outputs": [],
   "source": [
    "nb = NaiveBayes(labelCol=\"target\")\n",
    "rf = RandomForestClassifier(labelCol=\"target\") \n",
    "dc = DecisionTreeClassifier(labelCol=\"target\")\n",
    "mp = MultilayerPerceptronClassifier(labelCol=\"target\", layers= [4,5,4,3])"
   ]
  },
  {
   "cell_type": "code",
   "execution_count": 118,
   "id": "a071ad15",
   "metadata": {},
   "outputs": [
    {
     "name": "stderr",
     "output_type": "stream",
     "text": [
      "                                                                                \r"
     ]
    }
   ],
   "source": [
    "nb_model = nb.fit(train_classification_df)\n",
    "rf_model = rf.fit(train_classification_df)\n",
    "dc_model = dc.fit(train_classification_df)\n",
    "mp_model = mp.fit(train_classification_df)"
   ]
  },
  {
   "cell_type": "code",
   "execution_count": 119,
   "id": "4e62eefe",
   "metadata": {},
   "outputs": [],
   "source": [
    "nb_test_result = nb_model.transform(test_classification_df)\n",
    "rf_test_result = rf_model.transform(test_classification_df)\n",
    "dc_test_result = dc_model.transform(test_classification_df)\n",
    "mp_test_result = mp_model.transform(test_classification_df)"
   ]
  },
  {
   "cell_type": "code",
   "execution_count": 121,
   "id": "49e9bcf8",
   "metadata": {},
   "outputs": [],
   "source": [
    "evaluator_classification = evaluation.MulticlassClassificationEvaluator(\n",
    "    predictionCol=\"prediction\", labelCol=\"target\", metricName=\"accuracy\"\n",
    ")"
   ]
  },
  {
   "cell_type": "code",
   "execution_count": 122,
   "id": "1aa4c3c5",
   "metadata": {},
   "outputs": [
    {
     "name": "stdout",
     "output_type": "stream",
     "text": [
      "Naive-Bayes Classifier accuracy:  1.0\n",
      "\n",
      "Random Forest Classifier accuracy:  0.9142857142857143\n",
      "\n",
      "Decision Tree Classifier accuracy:  0.9142857142857143\n",
      "\n",
      "Maltilayer Preceptron Classifier accuracy:  0.9428571428571428\n"
     ]
    },
    {
     "name": "stderr",
     "output_type": "stream",
     "text": [
      "21/10/03 14:11:51 WARN HeartbeatReceiver: Removing executor driver with no recent heartbeats: 1966105 ms exceeds timeout 120000 ms\n",
      "21/10/03 14:11:51 WARN SparkContext: Killing executors is not supported by current scheduler.\n"
     ]
    }
   ],
   "source": [
    "print(\"Naive-Bayes Classifier accuracy: \", evaluator_classification.evaluate(nb_test_result))\n",
    "print()\n",
    "print(\"Random Forest Classifier accuracy: \", evaluator_classification.evaluate(rf_test_result))\n",
    "print()\n",
    "print(\"Decision Tree Classifier accuracy: \", evaluator_classification.evaluate(dc_test_result))\n",
    "print()\n",
    "print(\"Maltilayer Preceptron Classifier accuracy: \", evaluator_classification.evaluate(mp_test_result))"
   ]
  },
  {
   "cell_type": "markdown",
   "id": "ccb3083d",
   "metadata": {},
   "source": [
    "# 3. Clustering"
   ]
  },
  {
   "cell_type": "code",
   "execution_count": 5,
   "id": "c96557ae",
   "metadata": {},
   "outputs": [],
   "source": [
    "from pyspark.ml.clustering import KMeans"
   ]
  },
  {
   "cell_type": "code",
   "execution_count": 19,
   "id": "978e9a8f",
   "metadata": {},
   "outputs": [
    {
     "name": "stdout",
     "output_type": "stream",
     "text": [
      "+-----------------+----------------+-----------------+----------------+------+\n",
      "|sepal length (cm)|sepal width (cm)|petal length (cm)|petal width (cm)|target|\n",
      "+-----------------+----------------+-----------------+----------------+------+\n",
      "|              5.1|             3.5|              1.4|             0.2|     0|\n",
      "|              4.9|             3.0|              1.4|             0.2|     0|\n",
      "+-----------------+----------------+-----------------+----------------+------+\n",
      "only showing top 2 rows\n",
      "\n"
     ]
    }
   ],
   "source": [
    "clustering_df = skdataset_to_sparkdataset(load_iris)\n",
    "rem_null_duplicates(clustering_df)\n",
    "clustering_df.show(2)"
   ]
  },
  {
   "cell_type": "code",
   "execution_count": 20,
   "id": "310b20bd",
   "metadata": {},
   "outputs": [],
   "source": [
    "assembler_clustering = VectorAssembler(inputCols=['sepal length (cm)',\n",
    " 'sepal width (cm)',\n",
    " 'petal length (cm)',\n",
    " 'petal width (cm)',], outputCol=\"raw_features\")"
   ]
  },
  {
   "cell_type": "code",
   "execution_count": 21,
   "id": "0e8fbd53",
   "metadata": {},
   "outputs": [],
   "source": [
    "clustering_df = assembler_clustering.transform(clustering_df)\n",
    "clustering_df = scaler.fit(clustering_df).transform(clustering_df)\n",
    "clustering_df = clustering_df.select(\"features\",\"target\")"
   ]
  },
  {
   "cell_type": "code",
   "execution_count": 22,
   "id": "bdf69670",
   "metadata": {},
   "outputs": [
    {
     "name": "stdout",
     "output_type": "stream",
     "text": [
      "+--------------------+------+\n",
      "|            features|target|\n",
      "+--------------------+------+\n",
      "|[6.15892840883878...|     0|\n",
      "|[5.9174018045706,...|     0|\n",
      "+--------------------+------+\n",
      "only showing top 2 rows\n",
      "\n"
     ]
    }
   ],
   "source": [
    "clustering_df.show(2)"
   ]
  },
  {
   "cell_type": "code",
   "execution_count": 35,
   "id": "f718f044",
   "metadata": {},
   "outputs": [
    {
     "name": "stderr",
     "output_type": "stream",
     "text": [
      "                                                                                \r"
     ]
    }
   ],
   "source": [
    "model_cost_list = []\n",
    "for i in range(2,7):\n",
    "    km = KMeans(k=i)\n",
    "    km_model = km.fit(clustering_df)\n",
    "    model_cost_list.append(km_model.summary.trainingCost)"
   ]
  },
  {
   "cell_type": "code",
   "execution_count": 37,
   "id": "e28488d0",
   "metadata": {},
   "outputs": [
    {
     "data": {
      "text/plain": [
       "[<matplotlib.lines.Line2D at 0x7f84cc489220>]"
      ]
     },
     "execution_count": 37,
     "metadata": {},
     "output_type": "execute_result"
    },
    {
     "data": {
      "image/png": "[encoded data removed]",
      "text/plain": [
       "<Figure size 432x288 with 1 Axes>"
      ]
     },
     "metadata": {
      "needs_background": "light"
     },
     "output_type": "display_data"
    }
   ],
   "source": [
    "import matplotlib.pyplot as plt\n",
    "plt.plot(list(range(2,7)), model_cost_list)"
   ]
  },
  {
   "cell_type": "code",
   "execution_count": null,
   "id": "9045b3de",
   "metadata": {},
   "outputs": [],
   "source": [
    "# from above graph, it appears that elbow point is at \"3\". So we consider 3 optimal clusters"
   ]
  },
  {
   "cell_type": "code",
   "execution_count": 39,
   "id": "5a5b6c10",
   "metadata": {},
   "outputs": [
    {
     "name": "stderr",
     "output_type": "stream",
     "text": [
      "                                                                                \r"
     ]
    }
   ],
   "source": [
    "km = KMeans(k=3)\n",
    "km_model = km.fit(clustering_df)\n",
    "clustering_result_df = km_model.transform(clustering_df)"
   ]
  },
  {
   "cell_type": "code",
   "execution_count": 40,
   "id": "39eb9f1e",
   "metadata": {},
   "outputs": [
    {
     "name": "stdout",
     "output_type": "stream",
     "text": [
      "+--------------------+------+----------+\n",
      "|            features|target|prediction|\n",
      "+--------------------+------+----------+\n",
      "|[6.15892840883878...|     0|         1|\n",
      "|[5.9174018045706,...|     0|         1|\n",
      "+--------------------+------+----------+\n",
      "only showing top 2 rows\n",
      "\n"
     ]
    }
   ],
   "source": [
    "clustering_result_df.show(2)"
   ]
  },
  {
   "cell_type": "code",
   "execution_count": 41,
   "id": "d6ba9517",
   "metadata": {},
   "outputs": [
    {
     "name": "stderr",
     "output_type": "stream",
     "text": [
      "                                                                                \r"
     ]
    },
    {
     "name": "stdout",
     "output_type": "stream",
     "text": [
      "+----------+-----+\n",
      "|prediction|count|\n",
      "+----------+-----+\n",
      "|         1|   49|\n",
      "|         2|   46|\n",
      "|         0|   55|\n",
      "+----------+-----+\n",
      "\n"
     ]
    }
   ],
   "source": [
    "clustering_result_df.groupBy(\"prediction\").count().show()"
   ]
  },
  {
   "cell_type": "code",
   "execution_count": 28,
   "id": "4ed0934f",
   "metadata": {},
   "outputs": [
    {
     "name": "stderr",
     "output_type": "stream",
     "text": [
      "[Stage 35:====================================>                   (49 + 1) / 75]\r"
     ]
    },
    {
     "name": "stdout",
     "output_type": "stream",
     "text": [
      "+------+-----+\n",
      "|target|count|\n",
      "+------+-----+\n",
      "|     1|   50|\n",
      "|     2|   50|\n",
      "|     0|   50|\n",
      "+------+-----+\n",
      "\n"
     ]
    },
    {
     "name": "stderr",
     "output_type": "stream",
     "text": [
      "\r",
      "[Stage 35:===============================================>        (64 + 1) / 75]\r",
      "\r",
      "                                                                                \r"
     ]
    }
   ],
   "source": [
    "clustering_df.groupBy(\"target\").count().show()"
   ]
  },
  {
   "cell_type": "markdown",
   "id": "2944eef1",
   "metadata": {},
   "source": [
    "From above, we see that KMeans has clustered the observations in 3 clusters. The count appears to be very close to the actual ones"
   ]
  },
  {
   "cell_type": "markdown",
   "id": "e240e280",
   "metadata": {},
   "source": [
    "# 4. Recommendation System"
   ]
  },
  {
   "cell_type": "code",
   "execution_count": null,
   "id": "fb5f1c9b",
   "metadata": {},
   "outputs": [],
   "source": [
    "# Currently, Collaborative Filtering is supported"
   ]
  },
  {
   "cell_type": "code",
   "execution_count": 63,
   "id": "e6b039de",
   "metadata": {},
   "outputs": [],
   "source": [
    "from pyspark.ml.recommendation import ALS"
   ]
  },
  {
   "cell_type": "code",
   "execution_count": 64,
   "id": "88d41983",
   "metadata": {},
   "outputs": [
    {
     "name": "stderr",
     "output_type": "stream",
     "text": [
      "\r",
      "[Stage 869:>                                                        (0 + 1) / 1]\r"
     ]
    },
    {
     "name": "stdout",
     "output_type": "stream",
     "text": [
      "+-------+-------+------+\n",
      "|book_id|user_id|rating|\n",
      "+-------+-------+------+\n",
      "|      1|    314|     5|\n",
      "|      1|    439|     3|\n",
      "+-------+-------+------+\n",
      "only showing top 2 rows\n",
      "\n"
     ]
    },
    {
     "name": "stderr",
     "output_type": "stream",
     "text": [
      "\r",
      "                                                                                \r"
     ]
    }
   ],
   "source": [
    "# Dataset Location: https://www.kaggle.com/zygmunt/goodbooks-10k/version/5\n",
    "\n",
    "recommendation_df = spark.read.csv(\"Spark_for_Machine_Learning/Recommender_Systems/ratings.csv\", inferSchema=True, header=True)\n",
    "recommendation_df.show(2)"
   ]
  },
  {
   "cell_type": "code",
   "execution_count": 65,
   "id": "d6137fc0",
   "metadata": {},
   "outputs": [
    {
     "data": {
      "text/plain": [
       "981756"
      ]
     },
     "execution_count": 65,
     "metadata": {},
     "output_type": "execute_result"
    }
   ],
   "source": [
    "recommendation_df.count()"
   ]
  },
  {
   "cell_type": "code",
   "execution_count": 66,
   "id": "7e1056d5",
   "metadata": {},
   "outputs": [],
   "source": [
    "train_recommendation_df, test_recommendation_df = recommendation_df.randomSplit([0.8, 0.2])"
   ]
  },
  {
   "cell_type": "code",
   "execution_count": 67,
   "id": "5758e288",
   "metadata": {},
   "outputs": [],
   "source": [
    "als = ALS(userCol='user_id',\n",
    "    itemCol='book_id',\n",
    "    ratingCol='rating',)"
   ]
  },
  {
   "cell_type": "code",
   "execution_count": 68,
   "id": "3ca374c4",
   "metadata": {},
   "outputs": [
    {
     "name": "stderr",
     "output_type": "stream",
     "text": [
      "                                                                                \r"
     ]
    }
   ],
   "source": [
    "als_model = als.fit(train_recommendation_df)\n",
    "result_train_df = als_model.transform(train_recommendation_df)"
   ]
  },
  {
   "cell_type": "code",
   "execution_count": 69,
   "id": "8a37625c",
   "metadata": {},
   "outputs": [],
   "source": [
    "# Let us evaluate the model\n",
    "from pyspark.ml.evaluation import RegressionEvaluator\n",
    "regression_evaluator = RegressionEvaluator(predictionCol='prediction',labelCol='rating',)"
   ]
  },
  {
   "cell_type": "code",
   "execution_count": 70,
   "id": "7d4eb145",
   "metadata": {},
   "outputs": [
    {
     "name": "stderr",
     "output_type": "stream",
     "text": [
      "                                                                                \r"
     ]
    }
   ],
   "source": [
    "recommendation_evaluator = regression_evaluator.evaluate(result_train_df)"
   ]
  },
  {
   "cell_type": "code",
   "execution_count": 71,
   "id": "51b398e8",
   "metadata": {},
   "outputs": [
    {
     "name": "stdout",
     "output_type": "stream",
     "text": [
      "RSME for the Recommendation System model on train cases is  0.5926992939442814\n"
     ]
    }
   ],
   "source": [
    "print(\"RSME for the Recommendation System model on train cases is \",recommendation_evaluator)"
   ]
  },
  {
   "cell_type": "code",
   "execution_count": 72,
   "id": "f9298752",
   "metadata": {},
   "outputs": [
    {
     "name": "stderr",
     "output_type": "stream",
     "text": [
      "\r",
      "[Stage 956:>                                                        (0 + 1) / 1]\r"
     ]
    },
    {
     "name": "stdout",
     "output_type": "stream",
     "text": [
      "+-------+-------+------+\n",
      "|book_id|user_id|rating|\n",
      "+-------+-------+------+\n",
      "|      1|   1169|     4|\n",
      "|      1|  10335|     4|\n",
      "+-------+-------+------+\n",
      "only showing top 2 rows\n",
      "\n"
     ]
    },
    {
     "name": "stderr",
     "output_type": "stream",
     "text": [
      "\r",
      "                                                                                \r"
     ]
    }
   ],
   "source": [
    "# Let us recommend products for 2 users as sample from test_recommendation_df\n",
    "test_recommendation_df.show(2)"
   ]
  },
  {
   "cell_type": "code",
   "execution_count": 79,
   "id": "8240ddd6",
   "metadata": {},
   "outputs": [
    {
     "name": "stderr",
     "output_type": "stream",
     "text": [
      "                                                                                \r"
     ]
    }
   ],
   "source": [
    "recommendation_test_users = set()\n",
    "i = 0\n",
    "while len(recommendation_test_users) < 2:    # because we are testing on 2 sample users\n",
    "    recommendation_test_users.add(test_recommendation_df.select(\"user_id\").collect()[i][0])\n",
    "    i += 1"
   ]
  },
  {
   "cell_type": "code",
   "execution_count": 83,
   "id": "fc3d1794",
   "metadata": {},
   "outputs": [],
   "source": [
    "recommendation_test_users = list(recommendation_test_users)"
   ]
  },
  {
   "cell_type": "code",
   "execution_count": 85,
   "id": "4b3aa7fb",
   "metadata": {},
   "outputs": [
    {
     "name": "stderr",
     "output_type": "stream",
     "text": [
      "                                                                                \r"
     ]
    },
    {
     "name": "stdout",
     "output_type": "stream",
     "text": [
      "+-------+-------+------+----------+\n",
      "|book_id|user_id|rating|prediction|\n",
      "+-------+-------+------+----------+\n",
      "|   3904|   1169|     3| 3.5186934|\n",
      "|      1|   1169|     4| 3.8504627|\n",
      "|    117|   1169|     3|  3.962414|\n",
      "|    658|   1169|     4| 3.5735686|\n",
      "|   9661|   1169|     4|  3.864401|\n",
      "+-------+-------+------+----------+\n",
      "\n"
     ]
    },
    {
     "name": "stderr",
     "output_type": "stream",
     "text": [
      "[Stage 1346:===================================>                  (49 + 1) / 75]\r"
     ]
    },
    {
     "name": "stdout",
     "output_type": "stream",
     "text": [
      "+-------+-------+------+----------+\n",
      "|book_id|user_id|rating|prediction|\n",
      "+-------+-------+------+----------+\n",
      "|      1|  10335|     4| 3.9550076|\n",
      "|   6600|  10335|     3|  3.816544|\n",
      "|   4584|  10335|     3| 3.7966855|\n",
      "+-------+-------+------+----------+\n",
      "\n"
     ]
    },
    {
     "name": "stderr",
     "output_type": "stream",
     "text": [
      "\r",
      "[Stage 1346:===================================================>  (71 + 1) / 75]\r",
      "\r",
      "                                                                                \r"
     ]
    }
   ],
   "source": [
    "for user in recommendation_test_users:\n",
    "    sample_case = test_recommendation_df[test_recommendation_df[\"user_id\"] == user]\n",
    "    result_sample_cases = als_model.transform(sample_case)\n",
    "    result_sample_cases.show()"
   ]
  },
  {
   "cell_type": "markdown",
   "id": "b02545a6",
   "metadata": {},
   "source": [
    "# Natural Language Processing"
   ]
  },
  {
   "cell_type": "code",
   "execution_count": 1,
   "id": "345164ad",
   "metadata": {},
   "outputs": [
    {
     "name": "stderr",
     "output_type": "stream",
     "text": [
      "21/10/14 07:37:57 WARN Utils: Your hostname, shounak-VirtualBox resolves to a loopback address: 127.0.1.1; using 10.0.2.15 instead (on interface enp0s3)\n",
      "21/10/14 07:37:57 WARN Utils: Set SPARK_LOCAL_IP if you need to bind to another address\n",
      "WARNING: An illegal reflective access operation has occurred\n",
      "WARNING: Illegal reflective access by org.apache.spark.unsafe.Platform (file:/home/shounak/spark-3.1.2-bin-hadoop3.2/jars/spark-unsafe_2.12-3.1.2.jar) to constructor java.nio.DirectByteBuffer(long,int)\n",
      "WARNING: Please consider reporting this to the maintainers of org.apache.spark.unsafe.Platform\n",
      "WARNING: Use --illegal-access=warn to enable warnings of further illegal reflective access operations\n",
      "WARNING: All illegal access operations will be denied in a future release\n",
      "21/10/14 07:37:59 WARN NativeCodeLoader: Unable to load native-hadoop library for your platform... using builtin-java classes where applicable\n",
      "Using Spark's default log4j profile: org/apache/spark/log4j-defaults.properties\n",
      "Setting default log level to \"WARN\".\n",
      "To adjust logging level use sc.setLogLevel(newLevel). For SparkR, use setLogLevel(newLevel).\n"
     ]
    }
   ],
   "source": [
    "import findspark\n",
    "findspark.init(\"/home/shounak/spark-3.1.2-bin-hadoop3.2\")\n",
    "import pyspark\n",
    "from pyspark.sql import SparkSession\n",
    "spark = SparkSession.builder.appName(\"demo\").getOrCreate()"
   ]
  },
  {
   "cell_type": "markdown",
   "id": "f8ef8061",
   "metadata": {},
   "source": [
    "For Natural Language Processing, we will be using dataset of SMS texts which are classified into spam or ham.\n",
    "We will train the model to classify the text."
   ]
  },
  {
   "cell_type": "code",
   "execution_count": 2,
   "id": "4c47e278",
   "metadata": {},
   "outputs": [
    {
     "name": "stderr",
     "output_type": "stream",
     "text": [
      "\r",
      "[Stage 0:>                                                          (0 + 1) / 1]\r",
      "\r",
      "                                                                                \r"
     ]
    }
   ],
   "source": [
    "nlp_data = spark.read.csv(\"Spark_for_Machine_Learning/Natural_Language_Processing/smsspamcollection/SMSSpamCollection\", inferSchema=True, sep=\"\\t\")"
   ]
  },
  {
   "cell_type": "code",
   "execution_count": 3,
   "id": "5cac53a5",
   "metadata": {},
   "outputs": [
    {
     "name": "stdout",
     "output_type": "stream",
     "text": [
      "+----+--------------------+\n",
      "| _c0|                 _c1|\n",
      "+----+--------------------+\n",
      "| ham|Go until jurong p...|\n",
      "| ham|Ok lar... Joking ...|\n",
      "|spam|Free entry in 2 a...|\n",
      "| ham|U dun say so earl...|\n",
      "| ham|Nah I don't think...|\n",
      "+----+--------------------+\n",
      "only showing top 5 rows\n",
      "\n"
     ]
    }
   ],
   "source": [
    "nlp_data.show(5)"
   ]
  },
  {
   "cell_type": "code",
   "execution_count": 4,
   "id": "1a830dc0",
   "metadata": {},
   "outputs": [],
   "source": [
    "nlp_data = nlp_data.withColumnRenamed(\"_c0\",\"text_label\")\n",
    "nlp_data = nlp_data.withColumnRenamed(\"_c1\",\"text\")"
   ]
  },
  {
   "cell_type": "code",
   "execution_count": 5,
   "id": "abfbd5f2",
   "metadata": {},
   "outputs": [
    {
     "name": "stdout",
     "output_type": "stream",
     "text": [
      "+----------+--------------------+\n",
      "|text_label|                text|\n",
      "+----------+--------------------+\n",
      "|       ham|Go until jurong p...|\n",
      "|       ham|Ok lar... Joking ...|\n",
      "+----------+--------------------+\n",
      "only showing top 2 rows\n",
      "\n"
     ]
    }
   ],
   "source": [
    "nlp_data.show(2)"
   ]
  },
  {
   "cell_type": "code",
   "execution_count": 6,
   "id": "8d0803f7",
   "metadata": {},
   "outputs": [],
   "source": [
    "from pyspark.ml.feature import RegexTokenizer, StopWordsRemover, HashingTF, IDF, StringIndexer\n",
    "from pyspark.ml import Pipeline"
   ]
  },
  {
   "cell_type": "code",
   "execution_count": null,
   "id": "f1271485",
   "metadata": {},
   "outputs": [],
   "source": []
  },
  {
   "cell_type": "code",
   "execution_count": 7,
   "id": "f99d7ada",
   "metadata": {},
   "outputs": [],
   "source": [
    "regex_state = RegexTokenizer(inputCol=\"text\",outputCol=\"tokenized_text\")\n",
    "stopword_removed_state = StopWordsRemover(inputCol=\"tokenized_text\",outputCol=\"text_wo_stopwords\")\n",
    "hashTF_state = HashingTF(inputCol=\"text_wo_stopwords\",outputCol=\"hashed_tf\")\n",
    "idf_state = IDF(inputCol=\"hashed_tf\",outputCol=\"features\")\n",
    "string_labelling = StringIndexer(inputCol=\"text_label\",outputCol=\"label\")\n",
    "\n",
    "pipeline_route = Pipeline(stages=[regex_state,\n",
    "stopword_removed_state,\n",
    "hashTF_state,\n",
    "idf_state,])"
   ]
  },
  {
   "cell_type": "code",
   "execution_count": 8,
   "id": "e2889834",
   "metadata": {},
   "outputs": [
    {
     "name": "stderr",
     "output_type": "stream",
     "text": [
      "                                                                                \r"
     ]
    }
   ],
   "source": [
    "nlp_data = pipeline_route.fit(nlp_data).transform(nlp_data)\n",
    "nlp_data = string_labelling.fit(nlp_data).transform(nlp_data)"
   ]
  },
  {
   "cell_type": "code",
   "execution_count": 9,
   "id": "c2c869f4",
   "metadata": {},
   "outputs": [],
   "source": [
    "nlp_data = nlp_data.select([\"features\", \"label\"])"
   ]
  },
  {
   "cell_type": "code",
   "execution_count": 10,
   "id": "03ba7885",
   "metadata": {},
   "outputs": [],
   "source": [
    "train_nlp_data, test_nlp_data = nlp_data.randomSplit([0.8, 0.2])"
   ]
  },
  {
   "cell_type": "code",
   "execution_count": 11,
   "id": "895985bb",
   "metadata": {},
   "outputs": [],
   "source": [
    "from pyspark.ml.classification import NaiveBayes"
   ]
  },
  {
   "cell_type": "code",
   "execution_count": 12,
   "id": "a728c3c8",
   "metadata": {},
   "outputs": [],
   "source": [
    "nbc = NaiveBayes(featuresCol='features', labelCol='label')"
   ]
  },
  {
   "cell_type": "code",
   "execution_count": 13,
   "id": "d3b775dd",
   "metadata": {},
   "outputs": [
    {
     "name": "stderr",
     "output_type": "stream",
     "text": [
      "21/10/14 07:38:19 WARN DAGScheduler: Broadcasting large task binary with size 4.1 MiB\n",
      "21/10/14 07:38:20 WARN DAGScheduler: Broadcasting large task binary with size 4.1 MiB\n",
      "                                                                                \r"
     ]
    }
   ],
   "source": [
    "nbc_model = nbc.fit(train_nlp_data)"
   ]
  },
  {
   "cell_type": "code",
   "execution_count": 14,
   "id": "dea9d81e",
   "metadata": {},
   "outputs": [],
   "source": [
    "train_nlp_data_result = nbc_model.transform(train_nlp_data)\n",
    "test_nlp_data_result = nbc_model.transform(test_nlp_data)"
   ]
  },
  {
   "cell_type": "code",
   "execution_count": 15,
   "id": "6052106e",
   "metadata": {},
   "outputs": [],
   "source": [
    "from pyspark.ml.evaluation import MulticlassClassificationEvaluator"
   ]
  },
  {
   "cell_type": "code",
   "execution_count": 16,
   "id": "105ccbf9",
   "metadata": {},
   "outputs": [],
   "source": [
    "evaluator = MulticlassClassificationEvaluator(predictionCol='prediction',labelCol='label', metricName=\"accuracy\")"
   ]
  },
  {
   "cell_type": "code",
   "execution_count": 17,
   "id": "c9096045",
   "metadata": {},
   "outputs": [
    {
     "name": "stderr",
     "output_type": "stream",
     "text": [
      "21/10/14 07:38:27 WARN DAGScheduler: Broadcasting large task binary with size 8.1 MiB\n",
      "21/10/14 07:38:30 WARN DAGScheduler: Broadcasting large task binary with size 8.1 MiB\n",
      "[Stage 11:>                                                         (0 + 1) / 1]\r"
     ]
    },
    {
     "name": "stdout",
     "output_type": "stream",
     "text": [
      "Train accuracy:  0.9977653631284916\n",
      "Test accuracy:  0.9572338489535942\n"
     ]
    },
    {
     "name": "stderr",
     "output_type": "stream",
     "text": [
      "\r",
      "                                                                                \r"
     ]
    }
   ],
   "source": [
    "train_eval_score = evaluator.evaluate(train_nlp_data_result)\n",
    "test_eval_score = evaluator.evaluate(test_nlp_data_result)\n",
    "print(\"Train accuracy: \",train_eval_score)\n",
    "print(\"Test accuracy: \",test_eval_score)"
   ]
  },
  {
   "cell_type": "code",
   "execution_count": 33,
   "id": "3c2ec658",
   "metadata": {},
   "outputs": [],
   "source": [
    "def show_category(text):\n",
    "    sample_df_2 = spark.createDataFrame([{\"text\":sample_text}])\n",
    "    sample_df_2 = pipeline_route.fit(sample_df_2).transform(sample_df_2)\n",
    "    predicted_score = nbc_model.transform(sample_df_2).select([\"text\", \"prediction\"]).collect()[0][\"prediction\"]\n",
    "    if predicted_score == 0:\n",
    "        return \"spam\"\n",
    "    else:\n",
    "        return \"ham\""
   ]
  },
  {
   "cell_type": "code",
   "execution_count": 35,
   "id": "d2cd21e4",
   "metadata": {},
   "outputs": [],
   "source": [
    "# for demonstration, \n",
    "# we will pass random text samples from our dataframe without the label and see the prediction\n",
    "\n",
    "spam_text_1 = \"England v Macedonia - dont miss the goals/team news. Txt ur national team to 87077 eg ENGLAND to 87077 Try:WALES, SCOTLAND 4txt/ú1.20 POBOXox36504W45WQ 16+\"\n",
    "spam_text_2 = \"Free entry in 2 a wkly comp to win FA Cup final tkts 21st May 2005. Text FA to 87121 to receive entry question(std txt rate)T&C's apply 08452810075over18's\"\n",
    "\n",
    "ham_text_1 = \"I HAVE A DATE ON SUNDAY WITH WILL!!\"\n",
    "ham_text_2 = \"Are you this much buzy\""
   ]
  },
  {
   "cell_type": "code",
   "execution_count": 39,
   "id": "e10bdef1",
   "metadata": {},
   "outputs": [
    {
     "name": "stderr",
     "output_type": "stream",
     "text": [
      "21/10/14 07:49:18 WARN DAGScheduler: Broadcasting large task binary with size 8.0 MiB\n"
     ]
    },
    {
     "name": "stdout",
     "output_type": "stream",
     "text": [
      "Model prediction for spam_text_1 is  spam\n"
     ]
    },
    {
     "name": "stderr",
     "output_type": "stream",
     "text": [
      "21/10/14 07:49:20 WARN DAGScheduler: Broadcasting large task binary with size 8.0 MiB\n"
     ]
    },
    {
     "name": "stdout",
     "output_type": "stream",
     "text": [
      "Model prediction for spam_text_2 is  spam\n"
     ]
    },
    {
     "name": "stderr",
     "output_type": "stream",
     "text": [
      "21/10/14 07:49:21 WARN DAGScheduler: Broadcasting large task binary with size 8.0 MiB\n"
     ]
    },
    {
     "name": "stdout",
     "output_type": "stream",
     "text": [
      "Model prediction for ham_text_1 is  spam\n",
      "Model prediction for ham_text_2 is  spam\n"
     ]
    },
    {
     "name": "stderr",
     "output_type": "stream",
     "text": [
      "21/10/14 07:49:22 WARN DAGScheduler: Broadcasting large task binary with size 8.0 MiB\n"
     ]
    }
   ],
   "source": [
    "print(\"Model prediction for spam_text_1 is \", show_category(spam_text_1))\n",
    "print(\"Model prediction for spam_text_2 is \", show_category(spam_text_2))\n",
    "print(\"Model prediction for ham_text_1 is \", show_category(ham_text_1))\n",
    "print(\"Model prediction for ham_text_2 is \", show_category(ham_text_2))"
   ]
  }
 ],
 "metadata": {
  "kernelspec": {
   "display_name": "Python 3 (ipykernel)",
   "language": "python",
   "name": "python3"
  },
  "language_info": {
   "codemirror_mode": {
    "name": "ipython",
    "version": 3
   },
   "file_extension": ".py",
   "mimetype": "text/x-python",
   "name": "python",
   "nbconvert_exporter": "python",
   "pygments_lexer": "ipython3",
   "version": "3.8.10"
  }
 },
 "nbformat": 4,
 "nbformat_minor": 5
}
